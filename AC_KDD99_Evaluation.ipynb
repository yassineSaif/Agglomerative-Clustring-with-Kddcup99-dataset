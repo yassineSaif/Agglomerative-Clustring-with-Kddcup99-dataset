{
 "cells": [
  {
   "cell_type": "markdown",
   "metadata": {
    "id": "X91SsGpYXT-I"
   },
   "source": [
    "## This note book is for evaluate the perfermance of the Agglomerative clustring with changing the size of KDDCUP99 dataset from 1000 to 20000\n"
   ]
  },
  {
   "cell_type": "markdown",
   "metadata": {
    "id": "-mWpJd6VYdfG"
   },
   "source": [
    "## Import libraries"
   ]
  },
  {
   "cell_type": "code",
   "execution_count": 8,
   "metadata": {
    "id": "u6SzngTXYjMu"
   },
   "outputs": [],
   "source": [
    "from sklearn.datasets import fetch_kddcup99\n",
    "from sklearn.cluster import AgglomerativeClustering\n",
    "from sklearn.preprocessing import LabelEncoder, MinMaxScaler\n",
    "from sklearn.metrics import confusion_matrix\n",
    "from sklearn.metrics import silhouette_score\n",
    "import numpy as np\n",
    "import pandas as pd\n",
    "import matplotlib.pyplot as plt\n",
    "import time "
   ]
  },
  {
   "cell_type": "markdown",
   "metadata": {
    "id": "PIjZNGYTYzDD"
   },
   "source": [
    "## Data preprocessing"
   ]
  },
  {
   "cell_type": "code",
   "execution_count": 9,
   "metadata": {
    "colab": {
     "base_uri": "https://localhost:8080/"
    },
    "id": "fDogdOV-Y6Rh",
    "outputId": "e3564f19-08bd-4b25-cf66-6861169cb97d"
   },
   "outputs": [
    {
     "name": "stderr",
     "output_type": "stream",
     "text": [
      "/usr/local/lib/python3.7/dist-packages/sklearn/preprocessing/_label.py:251: DataConversionWarning: A column-vector y was passed when a 1d array was expected. Please change the shape of y to (n_samples, ), for example using ravel().\n",
      "  y = column_or_1d(y, warn=True)\n"
     ]
    }
   ],
   "source": [
    "#Load just 10% of the full data, because it's massive around 5 millons samples\n",
    "kddData = fetch_kddcup99(percent10=True)\n",
    "xData = kddData.data\n",
    "yData = kddData.target\n",
    "\n",
    "#Convert the data to data frame\n",
    "xDf = pd.DataFrame(xData)\n",
    "yDf = pd.DataFrame(yData)\n",
    "\n",
    "#For replaces strings with an incrementing integer, we will use LabelEncoder of the preprocessing module\n",
    "xDf = xDf.apply(pd.to_numeric, errors='ignore')#return float64 or int64 dtype depending on the data supplied\n",
    "for column in xDf.columns:\n",
    "    if xDf[column].dtype == object:\n",
    "        xle = LabelEncoder()\n",
    "        xDf[column] = xle.fit_transform(xDf[column])\n",
    "\n",
    "#Show the new dataFrame xDf (after converting the string)\n",
    "# All strings removed.\n",
    "xDf.head(5)\n",
    "\n",
    "#Replaces strings with an incrementing integer in the xDf dataframe\n",
    "yle = LabelEncoder()\n",
    "yDf = pd.DataFrame(yle.fit_transform(yDf))\n",
    "\n",
    "#Shuffle the data \n",
    "shuffledIndex = np.random.permutation(len(xDf))\n",
    "xDf = xDf.iloc[shuffledIndex]\n",
    "yDf = yDf.iloc[shuffledIndex]\n",
    "\n",
    "#Convert dataframe to array\n",
    "X = xDf.values\n",
    "y = yDf.values\n",
    "\n",
    "#Normalise the X data\n",
    "scaler = MinMaxScaler(feature_range=(-1,1))\n",
    "xNormalised = scaler.fit_transform(X)\n",
    "\n"
   ]
  },
  {
   "cell_type": "markdown",
   "metadata": {
    "id": "1VpbztJaZsbN"
   },
   "source": [
    "### We will use a for Loop, for repeat the process for different size of dataset."
   ]
  },
  {
   "cell_type": "code",
   "execution_count": 10,
   "metadata": {
    "id": "b0WDwCyZbUwG"
   },
   "outputs": [],
   "source": [
    "KList = [] #List of the optimal number of clusters\n",
    "purityKList = [] #List of the purity of train datast with k clusters\n",
    "purityKTList = [] #List of the purity of test datast with k clusters\n",
    "trainTimeKL = [] #List of train time for the model with k clusters\n",
    "for i in range(1,21):\n",
    "  \n",
    "  #The new dataframes\n",
    "  nbrSamples = i * 1000 #the size of the data from 10000 to 100000\n",
    "  myX = xNormalised[:nbrSamples]\n",
    "  myY = y[:nbrSamples]\n",
    "\n",
    "  #Convert dataframes to arrays\n",
    "  #80% for training and 20% for the test\n",
    "  percent80 = int(nbrSamples * 0.8)\n",
    "  xTrain = myX[:percent80]  \n",
    "  xTest = myX[percent80:]\n",
    "  yTrain = myY[:percent80]  \n",
    "  yTest = myY[percent80:]\n",
    "\n",
    "  #============================================================================\n",
    "  '''Calculate the silhouette coefficient for all the possible values\n",
    "  of K in the range 2-> 29 for finding the optimal number of clusters \n",
    "  that correspond to the maximum silhouette coefficient '''\n",
    "\n",
    "  #List for gather the silhouette scores\n",
    "  silhouetteScores = []\n",
    "  for nbrClusters in range(2,26):\n",
    "    #Applying the aglomerative clustring model\n",
    "    ACModel = AgglomerativeClustering(n_clusters=nbrClusters ,affinity='euclidean')\n",
    "\n",
    "    #Using %time for getting the training time\n",
    "    yPred = ACModel.fit_predict(xTrain)\n",
    "\n",
    "    #Calculate the silhouette coefficient\n",
    "    silhouetteScore = silhouette_score(xTrain, yPred)\n",
    "\n",
    "    silhouetteScores.append(silhouetteScore)\n",
    "    \n",
    "  #The optimal number of clusters K\n",
    "  #The maximun Silhouette coefficient\n",
    "  maxScore = max(silhouetteScores)\n",
    "\n",
    "  #The index of the maximum coefficient\n",
    "  indexMax = silhouetteScores.index(maxScore)\n",
    "\n",
    "  #The optimal number of clusters K\n",
    "  K = indexMax + 2\n",
    "  KList.append(K)\n",
    "  #=============================================================================\n",
    "  #Applying AC algorithm with K clusters for calculating the purity\n",
    "  ACModel = AgglomerativeClustering(n_clusters=K ,affinity='euclidean')\n",
    "  t0 = time.time()\n",
    "  yPred = ACModel.fit_predict(xTrain)\n",
    "  t1 = time.time()\n",
    "  t = t1-t0 #the time for train the model\n",
    "  trainTimeKL.append(t)\n",
    "  #Calculating the confusion matrix\n",
    "  CM = confusion_matrix(yTrain, yPred)\n",
    "  #Calculating the  purity\n",
    "  purityK = (CM.max(axis=1).sum())/len(xTrain)\n",
    "  purityK = round(purityK, 4)*100\n",
    "  purityKList.append(purityK)\n",
    "\n",
    "  #Calculating the purity for the test data\n",
    "  yPredT = ACModel.fit_predict(xTest)\n",
    "  #Calculating the confusion matrix\n",
    "  CM = confusion_matrix(yTest, yPredT)\n",
    "  #Calculating the  purity\n",
    "  purityKT = (CM.max(axis=1).sum())/len(xTest)\n",
    "  purityKT = round(purityKT, 4)*100\n",
    "  purityKTList.append(purityKT)"
   ]
  },
  {
   "cell_type": "markdown",
   "metadata": {
    "id": "CyQEACJXuE7h"
   },
   "source": [
    "## Plotting the result with different sizes of the dataset:\n",
    "\n",
    "*   Plotting the optimal number of clusters K.\n",
    "*   Plotting the training time.\n",
    "*   Plotting the training purity\n",
    "*   plotting the test purity\n",
    "\n",
    "\n",
    "\n"
   ]
  },
  {
   "cell_type": "code",
   "execution_count": 24,
   "metadata": {
    "colab": {
     "base_uri": "https://localhost:8080/",
     "height": 279
    },
    "id": "mAQ7fWc5vak9",
    "outputId": "9afd6c93-3f65-4fc5-ecad-6fbb9ae1462e"
   },
   "outputs": [
    {
     "data": {
      "image/png": "[encoded data removed]",
      "text/plain": [
       "<Figure size 432x288 with 1 Axes>"
      ]
     },
     "metadata": {
      "needs_background": "light",
      "tags": []
     },
     "output_type": "display_data"
    }
   ],
   "source": [
    "#Plotting the optimal number of clusters K\n",
    "X = np.arange(1,21)\n",
    "plt.scatter(X, KList, c='b')\n",
    "plt.xlabel('The size of the dataset (x1000)')\n",
    "plt.ylabel('The optimal number of clusters')\n",
    "plt.show()"
   ]
  },
  {
   "cell_type": "code",
   "execution_count": 23,
   "metadata": {
    "colab": {
     "base_uri": "https://localhost:8080/",
     "height": 279
    },
    "id": "Nfj7Iyd3wmr8",
    "outputId": "1a9d7da1-0204-4a88-96dc-7c04f2017bca"
   },
   "outputs": [
    {
     "data": {
      "image/png": "[encoded data removed]",
      "text/plain": [
       "<Figure size 432x288 with 1 Axes>"
      ]
     },
     "metadata": {
      "needs_background": "light",
      "tags": []
     },
     "output_type": "display_data"
    }
   ],
   "source": [
    "#Plotting the training time of the AC model\n",
    "plt.plot(X, trainTimeKL, c='r')\n",
    "plt.xlabel('The size of the dataset (x1000)')\n",
    "plt.ylabel('The traing time')\n",
    "plt.show()"
   ]
  },
  {
   "cell_type": "code",
   "execution_count": 15,
   "metadata": {
    "colab": {
     "base_uri": "https://localhost:8080/",
     "height": 279
    },
    "id": "-b263E45w7bs",
    "outputId": "69415e9f-74e0-42df-c5a0-b92fe770644e"
   },
   "outputs": [
    {
     "data": {
      "image/png": "[encoded data removed]",
      "text/plain": [
       "<Figure size 432x288 with 1 Axes>"
      ]
     },
     "metadata": {
      "needs_background": "light",
      "tags": []
     },
     "output_type": "display_data"
    }
   ],
   "source": [
    "#Plotting the training purity\n",
    "plt.plot(X, purityKList, c='k')\n",
    "plt.xlabel('The size of the dataset (x1000)')\n",
    "plt.ylabel('The Trainig purity (%)')\n",
    "plt.show()"
   ]
  },
  {
   "cell_type": "code",
   "execution_count": 16,
   "metadata": {
    "colab": {
     "base_uri": "https://localhost:8080/",
     "height": 279
    },
    "id": "SAoP0LLuxkBw",
    "outputId": "a3716fa7-d489-4d7c-de83-fc2b8526e54d"
   },
   "outputs": [
    {
     "data": {
      "image/png": "[encoded data removed]",
      "text/plain": [
       "<Figure size 432x288 with 1 Axes>"
      ]
     },
     "metadata": {
      "needs_background": "light",
      "tags": []
     },
     "output_type": "display_data"
    }
   ],
   "source": [
    "#Plotting the test purity\n",
    "plt.plot(X, purityKTList, c='y')\n",
    "plt.xlabel('The size of the dataset (x1000)')\n",
    "plt.ylabel('The Test purity (%)')\n",
    "plt.show()"
   ]
  }
 ],
 "metadata": {
  "colab": {
   "collapsed_sections": [],
   "name": "AC KDD99 Evaluation.ipynb",
   "provenance": []
  },
  "kernelspec": {
   "display_name": "Python 3",
   "language": "python",
   "name": "python3"
  },
  "language_info": {
   "codemirror_mode": {
    "name": "ipython",
    "version": 3
   },
   "file_extension": ".py",
   "mimetype": "text/x-python",
   "name": "python",
   "nbconvert_exporter": "python",
   "pygments_lexer": "ipython3",
   "version": "3.8.8"
  }
 },
 "nbformat": 4,
 "nbformat_minor": 1
}
